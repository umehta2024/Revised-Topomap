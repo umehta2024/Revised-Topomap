{
  "nbformat": 4,
  "nbformat_minor": 0,
  "metadata": {
    "colab": {
      "name": "Project.ipynb",
      "provenance": [],
      "collapsed_sections": []
    },
    "kernelspec": {
      "name": "python3",
      "display_name": "Python 3"
    },
    "language_info": {
      "name": "python"
    }
  },
  "cells": [
    {
      "cell_type": "markdown",
      "source": [
        "# 3D points to Adjacency matrix"
      ],
      "metadata": {
        "id": "M56oYQiiRjYo"
      }
    },
    {
      "cell_type": "code",
      "source": [
        "def coordinates_to_adj_mat(ogdata):\n",
        "\n",
        "  data = ogdata.drop(['Point', 'Cluster'], axis = 1)\n",
        "\n",
        "  number_of_points = data.shape[0]\n",
        "\n",
        "  adjacency_matrix = np.zeros((number_of_points, number_of_points))\n",
        "\n",
        "  for point_A_index, point_A_data in data.iterrows():\n",
        "    remaining_df = data.loc[point_A_index + 1:]\n",
        "    for point_B_index, point_B_data in remaining_df.iterrows():\n",
        "      adjacency_matrix[point_A_index][point_B_index] = np.linalg.norm(point_A_data - point_B_data)\n",
        "      adjacency_matrix[point_B_index][point_A_index] = adjacency_matrix[point_A_index][point_B_index]\n",
        "\n",
        "  return adjacency_matrix"
      ],
      "metadata": {
        "id": "f9osvtCcV7SC"
      },
      "execution_count": 4,
      "outputs": []
    },
    {
      "cell_type": "code",
      "source": [
        "# MST\n",
        "def adj_mat_to_mst(adj_mat):\n",
        "  mst = []\n",
        "  from scipy.sparse.csgraph import minimum_spanning_tree\n",
        "  tree_array = minimum_spanning_tree(adj_mat).toarray()\n",
        "  number_of_points = tree_array.shape[0]\n",
        "  for row_index in range(number_of_points):\n",
        "    for column_index in range(number_of_points):\n",
        "      if tree_array[row_index][column_index]:\n",
        "        mst.append({'dist': tree_array[row_index][column_index], 'point_U': row_index, 'point_V': column_index})\n",
        "  return sorted(mst, key = lambda edge: edge['dist'])"
      ],
      "metadata": {
        "id": "6Xtj3IQ6lEsW"
      },
      "execution_count": 5,
      "outputs": []
    },
    {
      "cell_type": "code",
      "source": [
        "class cluster:\n",
        "  def __init__(self, ID, reduce_to_dim):\n",
        "    self.ID = [ID]\n",
        "    self.points = np.array([[0]*reduce_to_dim])\n",
        "    self.n_dim = reduce_to_dim\n",
        "  def translate(self, translation_distance):\n",
        "    self.points = self.points - translation_distance\n",
        "  def get_points(self):\n",
        "    return self.points\n",
        "  def find_centroid(self):\n",
        "    return np.mean(self.points, axis = 0)\n",
        "  def combine_cluster(self, other_cluster, edge_length, reduce_to_dim):\n",
        "    difference = np.full(reduce_to_dim, edge_length / math.sqrt(reduce_to_dim))\n",
        "    new_centroid = self.find_centroid() + difference\n",
        "    translation_distance = other_cluster.find_centroid() - new_centroid\n",
        "    other_cluster.translate(translation_distance)\n",
        "    self.points = np.append(self.points, other_cluster.points, axis = 0)\n",
        "    self.ID.extend(other_cluster.ID)\n",
        "    del other_cluster"
      ],
      "metadata": {
        "id": "tS5M9NKaq8W5"
      },
      "execution_count": 6,
      "outputs": []
    },
    {
      "cell_type": "code",
      "source": [
        "def find_set(set_dict, value):\n",
        "  for key, current_set in set_dict.items():\n",
        "    if value in current_set:\n",
        "      return key"
      ],
      "metadata": {
        "id": "c1CeYOxJyN89"
      },
      "execution_count": 7,
      "outputs": []
    },
    {
      "cell_type": "code",
      "source": [
        "def mst_to_clusters(data, mst, reduce_to_dim):\n",
        "  set_dict = {}\n",
        "  cluster_dict = {}\n",
        "\n",
        "  for index, row in data.iterrows():\n",
        "    set_dict[index] = {index}\n",
        "    cluster_dict[index] = cluster(index, reduce_to_dim)\n",
        "\n",
        "  for edge in mst:\n",
        "    key_U = find_set(set_dict, edge['point_U'])\n",
        "    key_V = find_set(set_dict, edge['point_V'])\n",
        "    set_dict[key_U] = set_dict[key_U].union(set_dict[key_V])\n",
        "    other_cluster = cluster_dict[key_V]\n",
        "    edge_length = edge['dist']\n",
        "    cluster_dict[key_U].combine_cluster(other_cluster, edge_length, reduce_to_dim)\n",
        "    del set_dict[key_V]\n",
        "    del cluster_dict[key_V]\n",
        "\n",
        "  return cluster_dict"
      ],
      "metadata": {
        "id": "g2qfuJIVbt5J"
      },
      "execution_count": 8,
      "outputs": []
    },
    {
      "cell_type": "code",
      "source": [
        "import matplotlib.pyplot as plt\n",
        "import altair as alt\n",
        "import seaborn as sns\n",
        "import warnings\n",
        "warnings.filterwarnings('ignore')"
      ],
      "metadata": {
        "id": "0nKsP8G7Xh53"
      },
      "execution_count": 9,
      "outputs": []
    },
    {
      "cell_type": "code",
      "source": [
        ""
      ],
      "metadata": {
        "id": "5NDpUGxZ2I_g"
      },
      "execution_count": 9,
      "outputs": []
    },
    {
      "cell_type": "code",
      "source": [
        "def modified_topomap(coordinates, data_name, reduce_to_dim):\n",
        "\n",
        "  adj_mat = coordinates_to_adj_mat(coordinates)\n",
        "\n",
        "  mst = adj_mat_to_mst(adj_mat)\n",
        "\n",
        "  output = mst_to_clusters(coordinates, mst, reduce_to_dim)\n",
        "\n",
        "  output_df = pd.DataFrame(list(output.values())[0].points, columns=['X'])\n",
        "\n",
        "  output_df['Point'] = list(output.values())[0].ID\n",
        "\n",
        "  output_df['Cluster'] = coordinates['Cluster']\n",
        "\n",
        "  fig=alt.Chart(output_df).mark_point(filled=True).encode(\n",
        "           x = 'X',\n",
        "           color=alt.Color('Cluster'),\n",
        "           tooltip = [alt.Tooltip('Cluster')\n",
        "              ]).interactive()\n",
        "  #fig.save('iris_2.html')\n",
        "  #fig.write_html('{}.html'.format(data_name))\n",
        "  fig.save('{}.html'.format(data_name))\n",
        "\n",
        "  fig_2=sns.stripplot(data=output_df,\n",
        "              x='Cluster',\n",
        "              y='X',\n",
        "              jitter=True);\n",
        "            \n",
        "  #plot.save('jitter{}.html'.format(data_name))\n",
        "  fig_2.figure.savefig(\"{}.png\".format(data_name))"
      ],
      "metadata": {
        "id": "9rvgOChh7I6z"
      },
      "execution_count": 10,
      "outputs": []
    },
    {
      "cell_type": "code",
      "source": [
        "import pandas as pd\n",
        "import numpy as np\n",
        "import math\n",
        "import plotly.express as px\n",
        "import time\n",
        "\n",
        "data_list = ['iris','heart', 'seeds_dataset','cancer','mfeat']\n",
        "\n",
        "reduce_to_dim = 1\n",
        "\n",
        "for data_name in data_list:\n",
        "  coordinates = pd.read_csv('{}.csv'.format(data_name))\n",
        "  start_time = time.time()\n",
        "  modified_topomap(coordinates, data_name, reduce_to_dim)\n",
        "  end_time = time.time()\n",
        "  print('Time for {} is: {}'.format(data_name, end_time - start_time))"
      ],
      "metadata": {
        "colab": {
          "base_uri": "https://localhost:8080/",
          "height": 368
        },
        "id": "ELlR6xP35CMt",
        "outputId": "3b329e9b-d084-40bc-ed54-2c0894661cf7"
      },
      "execution_count": 11,
      "outputs": [
        {
          "output_type": "stream",
          "name": "stdout",
          "text": [
            "Time for iris is: 3.039031744003296\n",
            "Time for heart is: 126.57610726356506\n",
            "Time for seeds_dataset is: 5.497743606567383\n",
            "Time for cancer is: 41.1944522857666\n",
            "Time for mfeat is: 510.0490913391113\n"
          ]
        },
        {
          "output_type": "display_data",
          "data": {
            "text/plain": [
              "<Figure size 432x288 with 1 Axes>"
            ],
            "image/png": "[encoded data removed]"
          },
          "metadata": {
            "needs_background": "light"
          }
        }
      ]
    },
    {
      "cell_type": "code",
      "source": [
        "# # Visualisation \n",
        "# [\n",
        "#   {\n",
        "#       dist: 1,\n",
        "#       point_A: A,\n",
        "#       point_B: B\n",
        "#       }\n",
        "# ]"
      ],
      "metadata": {
        "id": "QMctCtHVcBnI"
      },
      "execution_count": 12,
      "outputs": []
    },
    {
      "cell_type": "markdown",
      "source": [
        "## Procedure Modified TopoMap\n",
        "Require: High dimensional points P = {p_1 , p_2, . . . , p_n }\n",
        "\n",
        "1: Compute the Euclidean minimum spanning tree E_{mst} over P\n",
        "\n",
        "2: Let E_{mst} = {e_1 , e_2 , . . . , e_{n−1} } be the edges ordered on length\n",
        "\n",
        "3: Let P′ = {p′_1, p′_2 , . . . , p′_n }, where p′_i = (0, 0), ∀i\n",
        "\n",
        "4: Let C_i = {p′_i } be the initial set of components, and centroid_i = p'_i be the initial centroid of cluster C_i.\n",
        "\n",
        "5: **for** each i ∈ [1, n − 1] do\n",
        "\n",
        "6:&emsp;&emsp; Let (p_a , p_b ) be the end points of edge e_i\n",
        "\n",
        "7:&emsp;&emsp; Let C_a be the component containing p′_a and C_b be the component containing p′_b\n",
        "\n",
        "8:&emsp;&emsp; Place C_a and C_b in R^2 s.t. {d(centroid_a , centroid_b )} = length(ei)\n",
        "\n",
        "9:&emsp;&emsp; Let C_ab = C_a⋃C_b, and compute the centroid of C_ab as centroid_ab\n",
        "\n",
        "10:&emsp;&emsp; Remove C_a and C_b from the set of components, and add C_ab into this set\n",
        "\n",
        "11: end **for**\n",
        "\n",
        "12: return P′"
      ],
      "metadata": {
        "id": "CaACbFRNjPK1"
      }
    },
    {
      "cell_type": "code",
      "source": [
        ""
      ],
      "metadata": {
        "id": "GgUeAuE-jaOl"
      },
      "execution_count": 12,
      "outputs": []
    }
  ]
}