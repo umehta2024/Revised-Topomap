{
  "nbformat": 4,
  "nbformat_minor": 0,
  "metadata": {
    "colab": {
      "name": "Iris.ipynb",
      "provenance": [],
      "collapsed_sections": []
    },
    "kernelspec": {
      "name": "python3",
      "display_name": "Python 3"
    },
    "language_info": {
      "name": "python"
    }
  },
  "cells": [
    {
      "cell_type": "code",
      "source": [
        "import pandas as pd\n",
        "import numpy as np\n",
        "from sklearn.manifold import TSNE\n",
        "import altair as alt\n",
        "import matplotlib.pyplot as plt\n",
        "import time"
      ],
      "metadata": {
        "id": "Dyal0_Ow_-ah"
      },
      "execution_count": 1,
      "outputs": []
    },
    {
      "cell_type": "code",
      "source": [
        "start_time = time.time()"
      ],
      "metadata": {
        "id": "nlAfjsePFWS7"
      },
      "execution_count": 2,
      "outputs": []
    },
    {
      "cell_type": "code",
      "execution_count": 13,
      "metadata": {
        "colab": {
          "base_uri": "https://localhost:8080/",
          "height": 363
        },
        "id": "B0Lu0PQw8DtR",
        "outputId": "87ac121a-af7e-442c-f1d3-47559f36a1ab"
      },
      "outputs": [
        {
          "output_type": "execute_result",
          "data": {
            "text/html": [
              "\n",
              "<div id=\"altair-viz-db7fb557cbb14874a960616a54aba80d\"></div>\n",
              "<script type=\"text/javascript\">\n",
              "  var VEGA_DEBUG = (typeof VEGA_DEBUG == \"undefined\") ? {} : VEGA_DEBUG;\n",
              "  (function(spec, embedOpt){\n",
              "    let outputDiv = document.currentScript.previousElementSibling;\n",
              "    if (outputDiv.id !== \"altair-viz-db7fb557cbb14874a960616a54aba80d\") {\n",
              "      outputDiv = document.getElementById(\"altair-viz-db7fb557cbb14874a960616a54aba80d\");\n",
              "    }\n",
              "    const paths = {\n",
              "      \"vega\": \"https://cdn.jsdelivr.net/npm//vega@5?noext\",\n",
              "      \"vega-lib\": \"https://cdn.jsdelivr.net/npm//vega-lib?noext\",\n",
              "      \"vega-lite\": \"https://cdn.jsdelivr.net/npm//vega-lite@4.17.0?noext\",\n",
              "      \"vega-embed\": \"https://cdn.jsdelivr.net/npm//vega-embed@6?noext\",\n",
              "    };\n",
              "\n",
              "    function maybeLoadScript(lib, version) {\n",
              "      var key = `${lib.replace(\"-\", \"\")}_version`;\n",
              "      return (VEGA_DEBUG[key] == version) ?\n",
              "        Promise.resolve(paths[lib]) :\n",
              "        new Promise(function(resolve, reject) {\n",
              "          var s = document.createElement('script');\n",
              "          document.getElementsByTagName(\"head\")[0].appendChild(s);\n",
              "          s.async = true;\n",
              "          s.onload = () => {\n",
              "            VEGA_DEBUG[key] = version;\n",
              "            return resolve(paths[lib]);\n",
              "          };\n",
              "          s.onerror = () => reject(`Error loading script: ${paths[lib]}`);\n",
              "          s.src = paths[lib];\n",
              "        });\n",
              "    }\n",
              "\n",
              "    function showError(err) {\n",
              "      outputDiv.innerHTML = `<div class=\"error\" style=\"color:red;\">${err}</div>`;\n",
              "      throw err;\n",
              "    }\n",
              "\n",
              "    function displayChart(vegaEmbed) {\n",
              "      vegaEmbed(outputDiv, spec, embedOpt)\n",
              "        .catch(err => showError(`Javascript Error: ${err.message}<br>This usually means there's a typo in your chart specification. See the javascript console for the full traceback.`));\n",
              "    }\n",
              "\n",
              "    if(typeof define === \"function\" && define.amd) {\n",
              "      requirejs.config({paths});\n",
              "      require([\"vega-embed\"], displayChart, err => showError(`Error loading script: ${err.message}`));\n",
              "    } else {\n",
              "      maybeLoadScript(\"vega\", \"5\")\n",
              "        .then(() => maybeLoadScript(\"vega-lite\", \"4.17.0\"))\n",
              "        .then(() => maybeLoadScript(\"vega-embed\", \"6\"))\n",
              "        .catch(showError)\n",
              "        .then(() => displayChart(vegaEmbed));\n",
              "    }\n",
              "  })({\"config\": {\"view\": {\"continuousWidth\": 400, \"continuousHeight\": 300}}, \"data\": {\"name\": \"data-74d400fe4d857079f6db9b53066d3721\"}, \"mark\": {\"type\": \"point\", \"filled\": true}, \"encoding\": {\"color\": {\"field\": \"Cluster\", \"scale\": {\"domain\": [\"Iris-versicolor\", \"Iris-virginica\", \"Iris-setosa\"], \"range\": [\"red\", \"green\", \"blue\"]}, \"type\": \"nominal\"}, \"tooltip\": [{\"field\": \"Cluster\", \"type\": \"nominal\"}], \"x\": {\"field\": \"component 1\", \"type\": \"quantitative\"}, \"y\": {\"field\": \"component 2\", \"type\": \"quantitative\"}}, \"selection\": {\"selector002\": {\"type\": \"interval\", \"bind\": \"scales\", \"encodings\": [\"x\", \"y\"]}}, \"$schema\": \"https://vega.github.io/schema/vega-lite/v4.17.0.json\", \"datasets\": {\"data-74d400fe4d857079f6db9b53066d3721\": [{\"index_x\": 0, \"component 1\": 15.815289497375488, \"component 2\": -11.541176795959473, \"index_y\": 0, \"sepal.length\": 5.1, \"sepal.width\": 3.5, \"petal.length\": 1.4, \"petal.width\": 0.2, \"Cluster\": \"Iris-setosa\", \"Point\": 1}, {\"index_x\": 1, \"component 1\": 18.362770080566406, \"component 2\": -10.725951194763184, \"index_y\": 1, \"sepal.length\": 4.9, \"sepal.width\": 3.0, \"petal.length\": 1.4, \"petal.width\": 0.2, \"Cluster\": \"Iris-setosa\", \"Point\": 2}, {\"index_x\": 2, \"component 1\": 18.05985450744629, \"component 2\": -9.560462951660156, \"index_y\": 2, \"sepal.length\": 4.7, \"sepal.width\": 3.2, \"petal.length\": 1.3, \"petal.width\": 0.2, \"Cluster\": \"Iris-setosa\", \"Point\": 3}, {\"index_x\": 3, \"component 1\": 18.409984588623047, \"component 2\": -9.665933609008789, \"index_y\": 3, \"sepal.length\": 4.6, \"sepal.width\": 3.1, \"petal.length\": 1.5, \"petal.width\": 0.2, \"Cluster\": \"Iris-setosa\", \"Point\": 4}, {\"index_x\": 4, \"component 1\": 15.934184074401855, \"component 2\": -11.897330284118652, \"index_y\": 4, \"sepal.length\": 5.0, \"sepal.width\": 3.6, \"petal.length\": 1.4, \"petal.width\": 0.2, \"Cluster\": \"Iris-setosa\", \"Point\": 5}, {\"index_x\": 5, \"component 1\": 14.16261100769043, \"component 2\": -12.64014720916748, \"index_y\": 5, \"sepal.length\": 5.4, \"sepal.width\": 3.9, \"petal.length\": 1.7, \"petal.width\": 0.4, \"Cluster\": \"Iris-setosa\", \"Point\": 6}, {\"index_x\": 6, \"component 1\": 17.577001571655273, \"component 2\": -9.091851234436035, \"index_y\": 6, \"sepal.length\": 4.6, \"sepal.width\": 3.4, \"petal.length\": 1.4, \"petal.width\": 0.3, \"Cluster\": \"Iris-setosa\", \"Point\": 7}, {\"index_x\": 7, \"component 1\": 16.37921142578125, \"component 2\": -10.95149040222168, \"index_y\": 7, \"sepal.length\": 5.0, \"sepal.width\": 3.4, \"petal.length\": 1.5, \"petal.width\": 0.2, \"Cluster\": \"Iris-setosa\", \"Point\": 8}, {\"index_x\": 8, \"component 1\": 19.2050724029541, \"component 2\": -9.483134269714355, \"index_y\": 8, \"sepal.length\": 4.4, \"sepal.width\": 2.9, \"petal.length\": 1.4, \"petal.width\": 0.2, \"Cluster\": \"Iris-setosa\", \"Point\": 9}, {\"index_x\": 9, \"component 1\": 17.718772888183594, \"component 2\": -10.559799194335938, \"index_y\": 9, \"sepal.length\": 4.9, \"sepal.width\": 3.1, \"petal.length\": 1.5, \"petal.width\": 0.1, \"Cluster\": \"Iris-setosa\", \"Point\": 10}, {\"index_x\": 10, \"component 1\": 14.261714935302734, \"component 2\": -11.856640815734863, \"index_y\": 10, \"sepal.length\": 5.4, \"sepal.width\": 3.7, \"petal.length\": 1.5, \"petal.width\": 0.2, \"Cluster\": \"Iris-setosa\", \"Point\": 11}, {\"index_x\": 11, \"component 1\": 16.7275447845459, \"component 2\": -10.024893760681152, \"index_y\": 11, \"sepal.length\": 4.8, \"sepal.width\": 3.4, \"petal.length\": 1.6, \"petal.width\": 0.2, \"Cluster\": \"Iris-setosa\", \"Point\": 12}, {\"index_x\": 12, \"component 1\": 18.50756072998047, \"component 2\": -10.329408645629883, \"index_y\": 12, \"sepal.length\": 4.8, \"sepal.width\": 3.0, \"petal.length\": 1.4, \"petal.width\": 0.1, \"Cluster\": \"Iris-setosa\", \"Point\": 13}, {\"index_x\": 13, \"component 1\": 19.18556022644043, \"component 2\": -8.867878913879395, \"index_y\": 13, \"sepal.length\": 4.3, \"sepal.width\": 3.0, \"petal.length\": 1.1, \"petal.width\": 0.1, \"Cluster\": \"Iris-setosa\", \"Point\": 14}, {\"index_x\": 14, \"component 1\": 13.070502281188965, \"component 2\": -12.411166191101074, \"index_y\": 14, \"sepal.length\": 5.8, \"sepal.width\": 4.0, \"petal.length\": 1.2, \"petal.width\": 0.2, \"Cluster\": \"Iris-setosa\", \"Point\": 15}, {\"index_x\": 15, \"component 1\": 13.181649208068848, \"component 2\": -12.99542236328125, \"index_y\": 15, \"sepal.length\": 5.7, \"sepal.width\": 4.4, \"petal.length\": 1.5, \"petal.width\": 0.4, \"Cluster\": \"Iris-setosa\", \"Point\": 16}, {\"index_x\": 16, \"component 1\": 13.869935035705566, \"component 2\": -12.358731269836426, \"index_y\": 16, \"sepal.length\": 5.4, \"sepal.width\": 3.9, \"petal.length\": 1.3, \"petal.width\": 0.4, \"Cluster\": \"Iris-setosa\", \"Point\": 17}, {\"index_x\": 17, \"component 1\": 15.815288543701172, \"component 2\": -11.541175842285156, \"index_y\": 17, \"sepal.length\": 5.1, \"sepal.width\": 3.5, \"petal.length\": 1.4, \"petal.width\": 0.3, \"Cluster\": \"Iris-setosa\", \"Point\": 18}, {\"index_x\": 18, \"component 1\": 13.440388679504395, \"component 2\": -11.955958366394043, \"index_y\": 18, \"sepal.length\": 5.7, \"sepal.width\": 3.8, \"petal.length\": 1.7, \"petal.width\": 0.3, \"Cluster\": \"Iris-setosa\", \"Point\": 19}, {\"index_x\": 19, \"component 1\": 15.036820411682129, \"component 2\": -12.409468650817871, \"index_y\": 19, \"sepal.length\": 5.1, \"sepal.width\": 3.8, \"petal.length\": 1.5, \"petal.width\": 0.3, \"Cluster\": \"Iris-setosa\", \"Point\": 20}, {\"index_x\": 20, \"component 1\": 14.559135437011719, \"component 2\": -10.758858680725098, \"index_y\": 20, \"sepal.length\": 5.4, \"sepal.width\": 3.4, \"petal.length\": 1.7, \"petal.width\": 0.2, \"Cluster\": \"Iris-setosa\", \"Point\": 21}, {\"index_x\": 21, \"component 1\": 15.262182235717773, \"component 2\": -12.08936595916748, \"index_y\": 21, \"sepal.length\": 5.1, \"sepal.width\": 3.7, \"petal.length\": 1.5, \"petal.width\": 0.4, \"Cluster\": \"Iris-setosa\", \"Point\": 22}, {\"index_x\": 22, \"component 1\": 17.48058319091797, \"component 2\": -8.302160263061523, \"index_y\": 22, \"sepal.length\": 4.6, \"sepal.width\": 3.6, \"petal.length\": 1.0, \"petal.width\": 0.2, \"Cluster\": \"Iris-setosa\", \"Point\": 23}, {\"index_x\": 23, \"component 1\": 15.894830703735352, \"component 2\": -10.26972484588623, \"index_y\": 23, \"sepal.length\": 5.1, \"sepal.width\": 3.3, \"petal.length\": 1.7, \"petal.width\": 0.5, \"Cluster\": \"Iris-setosa\", \"Point\": 24}, {\"index_x\": 24, \"component 1\": 16.26001739501953, \"component 2\": -9.529436111450195, \"index_y\": 24, \"sepal.length\": 4.8, \"sepal.width\": 3.4, \"petal.length\": 1.9, \"petal.width\": 0.2, \"Cluster\": \"Iris-setosa\", \"Point\": 25}, {\"index_x\": 25, \"component 1\": 18.09508514404297, \"component 2\": -11.05663776397705, \"index_y\": 25, \"sepal.length\": 5.0, \"sepal.width\": 3.0, \"petal.length\": 1.6, \"petal.width\": 0.2, \"Cluster\": \"Iris-setosa\", \"Point\": 26}, {\"index_x\": 26, \"component 1\": 16.210866928100586, \"component 2\": -10.604592323303223, \"index_y\": 26, \"sepal.length\": 5.0, \"sepal.width\": 3.4, \"petal.length\": 1.6, \"petal.width\": 0.4, \"Cluster\": \"Iris-setosa\", \"Point\": 27}, {\"index_x\": 27, \"component 1\": 15.229000091552734, \"component 2\": -11.322894096374512, \"index_y\": 27, \"sepal.length\": 5.2, \"sepal.width\": 3.5, \"petal.length\": 1.5, \"petal.width\": 0.2, \"Cluster\": \"Iris-setosa\", \"Point\": 28}, {\"index_x\": 28, \"component 1\": 15.439041137695312, \"component 2\": -11.089571952819824, \"index_y\": 28, \"sepal.length\": 5.2, \"sepal.width\": 3.4, \"petal.length\": 1.4, \"petal.width\": 0.2, \"Cluster\": \"Iris-setosa\", \"Point\": 29}, {\"index_x\": 29, \"component 1\": 17.50484848022461, \"component 2\": -9.738733291625977, \"index_y\": 29, \"sepal.length\": 4.7, \"sepal.width\": 3.2, \"petal.length\": 1.6, \"petal.width\": 0.2, \"Cluster\": \"Iris-setosa\", \"Point\": 30}, {\"index_x\": 30, \"component 1\": 17.71040916442871, \"component 2\": -10.113799095153809, \"index_y\": 30, \"sepal.length\": 4.8, \"sepal.width\": 3.1, \"petal.length\": 1.6, \"petal.width\": 0.2, \"Cluster\": \"Iris-setosa\", \"Point\": 31}, {\"index_x\": 31, \"component 1\": 14.629799842834473, \"component 2\": -10.9791841506958, \"index_y\": 31, \"sepal.length\": 5.4, \"sepal.width\": 3.4, \"petal.length\": 1.5, \"petal.width\": 0.4, \"Cluster\": \"Iris-setosa\", \"Point\": 32}, {\"index_x\": 32, \"component 1\": 14.204229354858398, \"component 2\": -13.051525115966797, \"index_y\": 32, \"sepal.length\": 5.2, \"sepal.width\": 4.1, \"petal.length\": 1.5, \"petal.width\": 0.1, \"Cluster\": \"Iris-setosa\", \"Point\": 33}, {\"index_x\": 33, \"component 1\": 13.487799644470215, \"component 2\": -12.909555435180664, \"index_y\": 33, \"sepal.length\": 5.5, \"sepal.width\": 4.2, \"petal.length\": 1.4, \"petal.width\": 0.2, \"Cluster\": \"Iris-setosa\", \"Point\": 34}, {\"index_x\": 34, \"component 1\": 17.71877670288086, \"component 2\": -10.559798240661621, \"index_y\": 34, \"sepal.length\": 4.9, \"sepal.width\": 3.1, \"petal.length\": 1.5, \"petal.width\": 0.1, \"Cluster\": \"Iris-setosa\", \"Point\": 35}, {\"index_x\": 35, \"component 1\": 17.501237869262695, \"component 2\": -11.418557167053223, \"index_y\": 35, \"sepal.length\": 5.0, \"sepal.width\": 3.2, \"petal.length\": 1.2, \"petal.width\": 0.2, \"Cluster\": \"Iris-setosa\", \"Point\": 36}, {\"index_x\": 36, \"component 1\": 14.075154304504395, \"component 2\": -11.236258506774902, \"index_y\": 36, \"sepal.length\": 5.5, \"sepal.width\": 3.5, \"petal.length\": 1.3, \"petal.width\": 0.2, \"Cluster\": \"Iris-setosa\", \"Point\": 37}, {\"index_x\": 37, \"component 1\": 17.71877098083496, \"component 2\": -10.559799194335938, \"index_y\": 37, \"sepal.length\": 4.9, \"sepal.width\": 3.1, \"petal.length\": 1.5, \"petal.width\": 0.1, \"Cluster\": \"Iris-setosa\", \"Point\": 38}, {\"index_x\": 38, \"component 1\": 19.010494232177734, \"component 2\": -9.213228225708008, \"index_y\": 38, \"sepal.length\": 4.4, \"sepal.width\": 3.0, \"petal.length\": 1.3, \"petal.width\": 0.2, \"Cluster\": \"Iris-setosa\", \"Point\": 39}, {\"index_x\": 39, \"component 1\": 15.954622268676758, \"component 2\": -11.03569221496582, \"index_y\": 39, \"sepal.length\": 5.1, \"sepal.width\": 3.4, \"petal.length\": 1.5, \"petal.width\": 0.2, \"Cluster\": \"Iris-setosa\", \"Point\": 40}, {\"index_x\": 40, \"component 1\": 16.370391845703125, \"component 2\": -11.711400032043457, \"index_y\": 40, \"sepal.length\": 5.0, \"sepal.width\": 3.5, \"petal.length\": 1.3, \"petal.width\": 0.3, \"Cluster\": \"Iris-setosa\", \"Point\": 41}, {\"index_x\": 41, \"component 1\": 19.818971633911133, \"component 2\": -9.985379219055176, \"index_y\": 41, \"sepal.length\": 4.5, \"sepal.width\": 2.3, \"petal.length\": 1.3, \"petal.width\": 0.3, \"Cluster\": \"Iris-setosa\", \"Point\": 42}, {\"index_x\": 42, \"component 1\": 18.53110694885254, \"component 2\": -8.854108810424805, \"index_y\": 42, \"sepal.length\": 4.4, \"sepal.width\": 3.2, \"petal.length\": 1.3, \"petal.width\": 0.2, \"Cluster\": \"Iris-setosa\", \"Point\": 43}, {\"index_x\": 43, \"component 1\": 15.881970405578613, \"component 2\": -10.821206092834473, \"index_y\": 43, \"sepal.length\": 5.0, \"sepal.width\": 3.5, \"petal.length\": 1.6, \"petal.width\": 0.6, \"Cluster\": \"Iris-setosa\", \"Point\": 44}, {\"index_x\": 44, \"component 1\": 15.09492015838623, \"component 2\": -13.086796760559082, \"index_y\": 44, \"sepal.length\": 5.1, \"sepal.width\": 3.8, \"petal.length\": 1.9, \"petal.width\": 0.4, \"Cluster\": \"Iris-setosa\", \"Point\": 45}, {\"index_x\": 45, \"component 1\": 18.507568359375, \"component 2\": -10.329404830932617, \"index_y\": 45, \"sepal.length\": 4.8, \"sepal.width\": 3.0, \"petal.length\": 1.4, \"petal.width\": 0.3, \"Cluster\": \"Iris-setosa\", \"Point\": 46}, {\"index_x\": 46, \"component 1\": 15.023595809936523, \"component 2\": -12.529756546020508, \"index_y\": 46, \"sepal.length\": 5.1, \"sepal.width\": 3.8, \"petal.length\": 1.6, \"petal.width\": 0.2, \"Cluster\": \"Iris-setosa\", \"Point\": 47}, {\"index_x\": 47, \"component 1\": 18.13197898864746, \"component 2\": -9.355257987976074, \"index_y\": 47, \"sepal.length\": 4.6, \"sepal.width\": 3.2, \"petal.length\": 1.4, \"petal.width\": 0.2, \"Cluster\": \"Iris-setosa\", \"Point\": 48}, {\"index_x\": 48, \"component 1\": 14.591046333312988, \"component 2\": -11.928864479064941, \"index_y\": 48, \"sepal.length\": 5.3, \"sepal.width\": 3.7, \"petal.length\": 1.5, \"petal.width\": 0.2, \"Cluster\": \"Iris-setosa\", \"Point\": 49}, {\"index_x\": 49, \"component 1\": 16.858619689941406, \"component 2\": -11.04078197479248, \"index_y\": 49, \"sepal.length\": 5.0, \"sepal.width\": 3.3, \"petal.length\": 1.4, \"petal.width\": 0.2, \"Cluster\": \"Iris-setosa\", \"Point\": 50}, {\"index_x\": 50, \"component 1\": -12.310983657836914, \"component 2\": 4.887783527374268, \"index_y\": 50, \"sepal.length\": 7.0, \"sepal.width\": 3.2, \"petal.length\": 4.7, \"petal.width\": 1.4, \"Cluster\": \"Iris-versicolor\", \"Point\": 51}, {\"index_x\": 51, \"component 1\": -10.645431518554688, \"component 2\": 3.342249631881714, \"index_y\": 51, \"sepal.length\": 6.4, \"sepal.width\": 3.2, \"petal.length\": 4.5, \"petal.width\": 1.5, \"Cluster\": \"Iris-versicolor\", \"Point\": 52}, {\"index_x\": 52, \"component 1\": -12.242133140563965, \"component 2\": 5.525877475738525, \"index_y\": 52, \"sepal.length\": 6.9, \"sepal.width\": 3.1, \"petal.length\": 4.9, \"petal.width\": 1.5, \"Cluster\": \"Iris-versicolor\", \"Point\": 53}, {\"index_x\": 53, \"component 1\": -6.362182140350342, \"component 2\": -0.525234043598175, \"index_y\": 53, \"sepal.length\": 5.5, \"sepal.width\": 2.3, \"petal.length\": 4.0, \"petal.width\": 1.3, \"Cluster\": \"Iris-versicolor\", \"Point\": 54}, {\"index_x\": 54, \"component 1\": -10.713859558105469, \"component 2\": 4.214042663574219, \"index_y\": 54, \"sepal.length\": 6.5, \"sepal.width\": 2.8, \"petal.length\": 4.6, \"petal.width\": 1.5, \"Cluster\": \"Iris-versicolor\", \"Point\": 55}, {\"index_x\": 55, \"component 1\": -7.623359680175781, \"component 2\": 1.7928335666656494, \"index_y\": 55, \"sepal.length\": 5.7, \"sepal.width\": 2.8, \"petal.length\": 4.5, \"petal.width\": 1.3, \"Cluster\": \"Iris-versicolor\", \"Point\": 56}, {\"index_x\": 56, \"component 1\": -10.173418998718262, \"component 2\": 3.537199020385742, \"index_y\": 56, \"sepal.length\": 6.3, \"sepal.width\": 3.3, \"petal.length\": 4.7, \"petal.width\": 1.6, \"Cluster\": \"Iris-versicolor\", \"Point\": 57}, {\"index_x\": 57, \"component 1\": -6.204461574554443, \"component 2\": -2.2102572917938232, \"index_y\": 57, \"sepal.length\": 4.9, \"sepal.width\": 2.4, \"petal.length\": 3.3, \"petal.width\": 1.0, \"Cluster\": \"Iris-versicolor\", \"Point\": 58}, {\"index_x\": 58, \"component 1\": -11.182147026062012, \"component 2\": 4.202301979064941, \"index_y\": 58, \"sepal.length\": 6.6, \"sepal.width\": 2.9, \"petal.length\": 4.6, \"petal.width\": 1.3, \"Cluster\": \"Iris-versicolor\", \"Point\": 59}, {\"index_x\": 59, \"component 1\": -6.226253032684326, \"component 2\": -0.8433342576026917, \"index_y\": 59, \"sepal.length\": 5.2, \"sepal.width\": 2.7, \"petal.length\": 3.9, \"petal.width\": 1.4, \"Cluster\": \"Iris-versicolor\", \"Point\": 60}, {\"index_x\": 60, \"component 1\": -5.955930709838867, \"component 2\": -1.946036696434021, \"index_y\": 60, \"sepal.length\": 5.0, \"sepal.width\": 2.0, \"petal.length\": 3.5, \"petal.width\": 1.0, \"Cluster\": \"Iris-versicolor\", \"Point\": 61}, {\"index_x\": 61, \"component 1\": -8.45683765411377, \"component 2\": 1.0678421258926392, \"index_y\": 61, \"sepal.length\": 5.9, \"sepal.width\": 3.0, \"petal.length\": 4.2, \"petal.width\": 1.5, \"Cluster\": \"Iris-versicolor\", \"Point\": 62}, {\"index_x\": 62, \"component 1\": -6.055283069610596, \"component 2\": 0.03425900265574455, \"index_y\": 62, \"sepal.length\": 6.0, \"sepal.width\": 2.2, \"petal.length\": 4.0, \"petal.width\": 1.0, \"Cluster\": \"Iris-versicolor\", \"Point\": 63}, {\"index_x\": 63, \"component 1\": -9.082021713256836, \"component 2\": 3.8405473232269287, \"index_y\": 63, \"sepal.length\": 6.1, \"sepal.width\": 2.9, \"petal.length\": 4.7, \"petal.width\": 1.4, \"Cluster\": \"Iris-versicolor\", \"Point\": 64}, {\"index_x\": 64, \"component 1\": -7.589416980743408, \"component 2\": -1.1920450925827026, \"index_y\": 64, \"sepal.length\": 5.6, \"sepal.width\": 2.9, \"petal.length\": 3.6, \"petal.width\": 1.3, \"Cluster\": \"Iris-versicolor\", \"Point\": 65}, {\"index_x\": 65, \"component 1\": -11.536983489990234, \"component 2\": 3.718621015548706, \"index_y\": 65, \"sepal.length\": 6.7, \"sepal.width\": 3.1, \"petal.length\": 4.4, \"petal.width\": 1.4, \"Cluster\": \"Iris-versicolor\", \"Point\": 66}, {\"index_x\": 66, \"component 1\": -7.616699695587158, \"component 2\": 1.8014304637908936, \"index_y\": 66, \"sepal.length\": 5.6, \"sepal.width\": 3.0, \"petal.length\": 4.5, \"petal.width\": 1.5, \"Cluster\": \"Iris-versicolor\", \"Point\": 67}, {\"index_x\": 67, \"component 1\": -7.680074691772461, \"component 2\": 0.1044054627418518, \"index_y\": 67, \"sepal.length\": 5.8, \"sepal.width\": 2.7, \"petal.length\": 4.1, \"petal.width\": 1.0, \"Cluster\": \"Iris-versicolor\", \"Point\": 68}, {\"index_x\": 68, \"component 1\": -6.237464904785156, \"component 2\": 3.397512435913086, \"index_y\": 68, \"sepal.length\": 6.2, \"sepal.width\": 2.2, \"petal.length\": 4.5, \"petal.width\": 1.5, \"Cluster\": \"Iris-versicolor\", \"Point\": 69}, {\"index_x\": 69, \"component 1\": -6.931262493133545, \"component 2\": -0.595285952091217, \"index_y\": 69, \"sepal.length\": 5.6, \"sepal.width\": 2.5, \"petal.length\": 3.9, \"petal.width\": 1.1, \"Cluster\": \"Iris-versicolor\", \"Point\": 70}, {\"index_x\": 70, \"component 1\": -8.490028381347656, \"component 2\": 3.527803659439087, \"index_y\": 70, \"sepal.length\": 5.9, \"sepal.width\": 3.2, \"petal.length\": 4.8, \"petal.width\": 1.8, \"Cluster\": \"Iris-versicolor\", \"Point\": 71}, {\"index_x\": 71, \"component 1\": -8.62118148803711, \"component 2\": 0.22438105940818787, \"index_y\": 71, \"sepal.length\": 6.1, \"sepal.width\": 2.8, \"petal.length\": 4.0, \"petal.width\": 1.3, \"Cluster\": \"Iris-versicolor\", \"Point\": 72}, {\"index_x\": 72, \"component 1\": -9.01854133605957, \"component 2\": 5.775651454925537, \"index_y\": 72, \"sepal.length\": 6.3, \"sepal.width\": 2.5, \"petal.length\": 4.9, \"petal.width\": 1.5, \"Cluster\": \"Iris-versicolor\", \"Point\": 73}, {\"index_x\": 73, \"component 1\": -9.020194053649902, \"component 2\": 4.039822101593018, \"index_y\": 73, \"sepal.length\": 6.1, \"sepal.width\": 2.8, \"petal.length\": 4.7, \"petal.width\": 1.2, \"Cluster\": \"Iris-versicolor\", \"Point\": 74}, {\"index_x\": 74, \"component 1\": -10.560196876525879, \"component 2\": 2.754159688949585, \"index_y\": 74, \"sepal.length\": 6.4, \"sepal.width\": 2.9, \"petal.length\": 4.3, \"petal.width\": 1.3, \"Cluster\": \"Iris-versicolor\", \"Point\": 75}, {\"index_x\": 75, \"component 1\": -11.240612030029297, \"component 2\": 3.5523152351379395, \"index_y\": 75, \"sepal.length\": 6.6, \"sepal.width\": 3.0, \"petal.length\": 4.4, \"petal.width\": 1.4, \"Cluster\": \"Iris-versicolor\", \"Point\": 76}, {\"index_x\": 76, \"component 1\": -11.650689125061035, \"component 2\": 5.0889668464660645, \"index_y\": 76, \"sepal.length\": 6.8, \"sepal.width\": 2.8, \"petal.length\": 4.8, \"petal.width\": 1.4, \"Cluster\": \"Iris-versicolor\", \"Point\": 77}, {\"index_x\": 77, \"component 1\": -11.843301773071289, \"component 2\": 5.99463415145874, \"index_y\": 77, \"sepal.length\": 6.7, \"sepal.width\": 3.0, \"petal.length\": 5.0, \"petal.width\": 1.7, \"Cluster\": \"Iris-versicolor\", \"Point\": 78}, {\"index_x\": 78, \"component 1\": -8.721426963806152, \"component 2\": 2.678208112716675, \"index_y\": 78, \"sepal.length\": 6.0, \"sepal.width\": 2.9, \"petal.length\": 4.5, \"petal.width\": 1.5, \"Cluster\": \"Iris-versicolor\", \"Point\": 79}, {\"index_x\": 79, \"component 1\": -7.2267165184021, \"component 2\": -1.4257757663726807, \"index_y\": 79, \"sepal.length\": 5.7, \"sepal.width\": 2.6, \"petal.length\": 3.5, \"petal.width\": 1.0, \"Cluster\": \"Iris-versicolor\", \"Point\": 80}, {\"index_x\": 80, \"component 1\": -6.6452956199646, \"component 2\": -0.9957764744758606, \"index_y\": 80, \"sepal.length\": 5.5, \"sepal.width\": 2.4, \"petal.length\": 3.8, \"petal.width\": 1.1, \"Cluster\": \"Iris-versicolor\", \"Point\": 81}, {\"index_x\": 81, \"component 1\": -6.675548553466797, \"component 2\": -1.2288522720336914, \"index_y\": 81, \"sepal.length\": 5.5, \"sepal.width\": 2.4, \"petal.length\": 3.7, \"petal.width\": 1.0, \"Cluster\": \"Iris-versicolor\", \"Point\": 82}, {\"index_x\": 82, \"component 1\": -7.665787696838379, \"component 2\": -0.4201807975769043, \"index_y\": 82, \"sepal.length\": 5.8, \"sepal.width\": 2.7, \"petal.length\": 3.9, \"petal.width\": 1.2, \"Cluster\": \"Iris-versicolor\", \"Point\": 83}, {\"index_x\": 83, \"component 1\": -8.236458778381348, \"component 2\": 5.567322254180908, \"index_y\": 83, \"sepal.length\": 6.0, \"sepal.width\": 2.7, \"petal.length\": 5.1, \"petal.width\": 1.6, \"Cluster\": \"Iris-versicolor\", \"Point\": 84}, {\"index_x\": 84, \"component 1\": -7.1195759773254395, \"component 2\": 1.6457535028457642, \"index_y\": 84, \"sepal.length\": 5.4, \"sepal.width\": 3.0, \"petal.length\": 4.5, \"petal.width\": 1.5, \"Cluster\": \"Iris-versicolor\", \"Point\": 85}, {\"index_x\": 85, \"component 1\": -9.415369033813477, \"component 2\": 2.656726837158203, \"index_y\": 85, \"sepal.length\": 6.0, \"sepal.width\": 3.4, \"petal.length\": 4.5, \"petal.width\": 1.6, \"Cluster\": \"Iris-versicolor\", \"Point\": 86}, {\"index_x\": 86, \"component 1\": -11.698704719543457, \"component 2\": 4.582957744598389, \"index_y\": 86, \"sepal.length\": 6.7, \"sepal.width\": 3.1, \"petal.length\": 4.7, \"petal.width\": 1.5, \"Cluster\": \"Iris-versicolor\", \"Point\": 87}, {\"index_x\": 87, \"component 1\": -6.269027233123779, \"component 2\": 3.2972300052642822, \"index_y\": 87, \"sepal.length\": 6.3, \"sepal.width\": 2.3, \"petal.length\": 4.4, \"petal.width\": 1.3, \"Cluster\": \"Iris-versicolor\", \"Point\": 88}, {\"index_x\": 88, \"component 1\": -7.7402424812316895, \"component 2\": 0.5864839553833008, \"index_y\": 88, \"sepal.length\": 5.6, \"sepal.width\": 3.0, \"petal.length\": 4.1, \"petal.width\": 1.3, \"Cluster\": \"Iris-versicolor\", \"Point\": 89}, {\"index_x\": 89, \"component 1\": -6.721843242645264, \"component 2\": -0.3621617555618286, \"index_y\": 89, \"sepal.length\": 5.5, \"sepal.width\": 2.5, \"petal.length\": 4.0, \"petal.width\": 1.3, \"Cluster\": \"Iris-versicolor\", \"Point\": 90}, {\"index_x\": 90, \"component 1\": -6.747931480407715, \"component 2\": 0.9372170567512512, \"index_y\": 90, \"sepal.length\": 5.5, \"sepal.width\": 2.6, \"petal.length\": 4.4, \"petal.width\": 1.2, \"Cluster\": \"Iris-versicolor\", \"Point\": 91}, {\"index_x\": 91, \"component 1\": -9.202601432800293, \"component 2\": 3.3167176246643066, \"index_y\": 91, \"sepal.length\": 6.1, \"sepal.width\": 3.0, \"petal.length\": 4.6, \"petal.width\": 1.4, \"Cluster\": \"Iris-versicolor\", \"Point\": 92}, {\"index_x\": 92, \"component 1\": -7.397273063659668, \"component 2\": -0.2405468374490738, \"index_y\": 92, \"sepal.length\": 5.8, \"sepal.width\": 2.6, \"petal.length\": 4.0, \"petal.width\": 1.2, \"Cluster\": \"Iris-versicolor\", \"Point\": 93}, {\"index_x\": 93, \"component 1\": -6.222657680511475, \"component 2\": -2.1575496196746826, \"index_y\": 93, \"sepal.length\": 5.0, \"sepal.width\": 2.3, \"petal.length\": 3.3, \"petal.width\": 1.0, \"Cluster\": \"Iris-versicolor\", \"Point\": 94}, {\"index_x\": 94, \"component 1\": -7.093783855438232, \"component 2\": 0.47239547967910767, \"index_y\": 94, \"sepal.length\": 5.6, \"sepal.width\": 2.7, \"petal.length\": 4.2, \"petal.width\": 1.3, \"Cluster\": \"Iris-versicolor\", \"Point\": 95}, {\"index_x\": 95, \"component 1\": -7.924886703491211, \"component 2\": 0.9349396824836731, \"index_y\": 95, \"sepal.length\": 5.7, \"sepal.width\": 3.0, \"petal.length\": 4.2, \"petal.width\": 1.2, \"Cluster\": \"Iris-versicolor\", \"Point\": 96}, {\"index_x\": 96, \"component 1\": -7.72664737701416, \"component 2\": 0.8131924271583557, \"index_y\": 96, \"sepal.length\": 5.7, \"sepal.width\": 2.9, \"petal.length\": 4.2, \"petal.width\": 1.3, \"Cluster\": \"Iris-versicolor\", \"Point\": 97}, {\"index_x\": 97, \"component 1\": -9.579316139221191, \"component 2\": 2.103317975997925, \"index_y\": 97, \"sepal.length\": 6.2, \"sepal.width\": 2.9, \"petal.length\": 4.3, \"petal.width\": 1.3, \"Cluster\": \"Iris-versicolor\", \"Point\": 98}, {\"index_x\": 98, \"component 1\": -6.285928249359131, \"component 2\": -2.401667594909668, \"index_y\": 98, \"sepal.length\": 5.1, \"sepal.width\": 2.5, \"petal.length\": 3.0, \"petal.width\": 1.1, \"Cluster\": \"Iris-versicolor\", \"Point\": 99}, {\"index_x\": 99, \"component 1\": -7.580550193786621, \"component 2\": 0.28126099705696106, \"index_y\": 99, \"sepal.length\": 5.7, \"sepal.width\": 2.8, \"petal.length\": 4.1, \"petal.width\": 1.3, \"Cluster\": \"Iris-versicolor\", \"Point\": 100}, {\"index_x\": 100, \"component 1\": -11.734491348266602, \"component 2\": 9.572308540344238, \"index_y\": 100, \"sepal.length\": 6.3, \"sepal.width\": 3.3, \"petal.length\": 6.0, \"petal.width\": 2.5, \"Cluster\": \"Iris-virginica\", \"Point\": 101}, {\"index_x\": 101, \"component 1\": -7.634306907653809, \"component 2\": 5.2644524574279785, \"index_y\": 101, \"sepal.length\": 5.8, \"sepal.width\": 2.7, \"petal.length\": 5.1, \"petal.width\": 1.9, \"Cluster\": \"Iris-virginica\", \"Point\": 102}, {\"index_x\": 102, \"component 1\": -13.195060729980469, \"component 2\": 10.002914428710938, \"index_y\": 102, \"sepal.length\": 7.1, \"sepal.width\": 3.0, \"petal.length\": 5.9, \"petal.width\": 2.1, \"Cluster\": \"Iris-virginica\", \"Point\": 103}, {\"index_x\": 103, \"component 1\": -10.718685150146484, \"component 2\": 8.582160949707031, \"index_y\": 103, \"sepal.length\": 6.3, \"sepal.width\": 2.9, \"petal.length\": 5.6, \"petal.width\": 1.8, \"Cluster\": \"Iris-virginica\", \"Point\": 104}, {\"index_x\": 104, \"component 1\": -11.60547161102295, \"component 2\": 9.19851016998291, \"index_y\": 104, \"sepal.length\": 6.5, \"sepal.width\": 3.0, \"petal.length\": 5.8, \"petal.width\": 2.2, \"Cluster\": \"Iris-virginica\", \"Point\": 105}, {\"index_x\": 105, \"component 1\": -14.294039726257324, \"component 2\": 10.997187614440918, \"index_y\": 105, \"sepal.length\": 7.6, \"sepal.width\": 3.0, \"petal.length\": 6.6, \"petal.width\": 2.1, \"Cluster\": \"Iris-virginica\", \"Point\": 106}, {\"index_x\": 106, \"component 1\": -5.690861225128174, \"component 2\": 0.8647190928459167, \"index_y\": 106, \"sepal.length\": 4.9, \"sepal.width\": 2.5, \"petal.length\": 4.5, \"petal.width\": 1.7, \"Cluster\": \"Iris-virginica\", \"Point\": 107}, {\"index_x\": 107, \"component 1\": -13.69137191772461, \"component 2\": 10.755884170532227, \"index_y\": 107, \"sepal.length\": 7.3, \"sepal.width\": 2.9, \"petal.length\": 6.3, \"petal.width\": 1.8, \"Cluster\": \"Iris-virginica\", \"Point\": 108}, {\"index_x\": 108, \"component 1\": -10.983637809753418, \"component 2\": 9.834721565246582, \"index_y\": 108, \"sepal.length\": 6.7, \"sepal.width\": 2.5, \"petal.length\": 5.8, \"petal.width\": 1.8, \"Cluster\": \"Iris-virginica\", \"Point\": 109}, {\"index_x\": 109, \"component 1\": -14.148207664489746, \"component 2\": 9.79594898223877, \"index_y\": 109, \"sepal.length\": 7.2, \"sepal.width\": 3.6, \"petal.length\": 6.1, \"petal.width\": 2.5, \"Cluster\": \"Iris-virginica\", \"Point\": 110}, {\"index_x\": 110, \"component 1\": -11.569906234741211, \"component 2\": 6.703374862670898, \"index_y\": 110, \"sepal.length\": 6.5, \"sepal.width\": 3.2, \"petal.length\": 5.1, \"petal.width\": 2.0, \"Cluster\": \"Iris-virginica\", \"Point\": 111}, {\"index_x\": 111, \"component 1\": -10.113485336303711, \"component 2\": 7.365437984466553, \"index_y\": 111, \"sepal.length\": 6.4, \"sepal.width\": 2.7, \"petal.length\": 5.3, \"petal.width\": 1.9, \"Cluster\": \"Iris-virginica\", \"Point\": 112}, {\"index_x\": 112, \"component 1\": -12.59185791015625, \"component 2\": 8.277992248535156, \"index_y\": 112, \"sepal.length\": 6.8, \"sepal.width\": 3.0, \"petal.length\": 5.5, \"petal.width\": 2.1, \"Cluster\": \"Iris-virginica\", \"Point\": 113}, {\"index_x\": 113, \"component 1\": -7.187086582183838, \"component 2\": 5.276037693023682, \"index_y\": 113, \"sepal.length\": 5.7, \"sepal.width\": 2.5, \"petal.length\": 5.0, \"petal.width\": 2.0, \"Cluster\": \"Iris-virginica\", \"Point\": 114}, {\"index_x\": 114, \"component 1\": -7.738871097564697, \"component 2\": 5.0682053565979, \"index_y\": 114, \"sepal.length\": 5.8, \"sepal.width\": 2.8, \"petal.length\": 5.1, \"petal.width\": 2.4, \"Cluster\": \"Iris-virginica\", \"Point\": 115}, {\"index_x\": 115, \"component 1\": -11.47961711883545, \"component 2\": 7.517587661743164, \"index_y\": 115, \"sepal.length\": 6.4, \"sepal.width\": 3.2, \"petal.length\": 5.3, \"petal.width\": 2.3, \"Cluster\": \"Iris-virginica\", \"Point\": 116}, {\"index_x\": 116, \"component 1\": -11.45079231262207, \"component 2\": 8.3235445022583, \"index_y\": 116, \"sepal.length\": 6.5, \"sepal.width\": 3.0, \"petal.length\": 5.5, \"petal.width\": 1.8, \"Cluster\": \"Iris-virginica\", \"Point\": 117}, {\"index_x\": 117, \"component 1\": -14.878801345825195, \"component 2\": 10.496482849121094, \"index_y\": 117, \"sepal.length\": 7.7, \"sepal.width\": 3.8, \"petal.length\": 6.7, \"petal.width\": 2.2, \"Cluster\": \"Iris-virginica\", \"Point\": 118}, {\"index_x\": 118, \"component 1\": -14.229829788208008, \"component 2\": 11.426989555358887, \"index_y\": 118, \"sepal.length\": 7.7, \"sepal.width\": 2.6, \"petal.length\": 6.9, \"petal.width\": 2.3, \"Cluster\": \"Iris-virginica\", \"Point\": 119}, {\"index_x\": 119, \"component 1\": -7.558966159820557, \"component 2\": 6.151907920837402, \"index_y\": 119, \"sepal.length\": 6.0, \"sepal.width\": 2.2, \"petal.length\": 5.0, \"petal.width\": 1.5, \"Cluster\": \"Iris-virginica\", \"Point\": 120}, {\"index_x\": 120, \"component 1\": -13.031122207641602, \"component 2\": 9.104968070983887, \"index_y\": 120, \"sepal.length\": 6.9, \"sepal.width\": 3.2, \"petal.length\": 5.7, \"petal.width\": 2.3, \"Cluster\": \"Iris-virginica\", \"Point\": 121}, {\"index_x\": 121, \"component 1\": -7.350187301635742, \"component 2\": 4.385995388031006, \"index_y\": 121, \"sepal.length\": 5.6, \"sepal.width\": 2.8, \"petal.length\": 4.9, \"petal.width\": 2.0, \"Cluster\": \"Iris-virginica\", \"Point\": 122}, {\"index_x\": 122, \"component 1\": -14.252557754516602, \"component 2\": 11.231244087219238, \"index_y\": 122, \"sepal.length\": 7.7, \"sepal.width\": 2.8, \"petal.length\": 6.7, \"petal.width\": 2.0, \"Cluster\": \"Iris-virginica\", \"Point\": 123}, {\"index_x\": 123, \"component 1\": -9.399765968322754, \"component 2\": 5.397871494293213, \"index_y\": 123, \"sepal.length\": 6.3, \"sepal.width\": 2.7, \"petal.length\": 4.9, \"petal.width\": 1.8, \"Cluster\": \"Iris-virginica\", \"Point\": 124}, {\"index_x\": 124, \"component 1\": -12.50624942779541, \"component 2\": 9.032608032226562, \"index_y\": 124, \"sepal.length\": 6.7, \"sepal.width\": 3.3, \"petal.length\": 5.7, \"petal.width\": 2.1, \"Cluster\": \"Iris-virginica\", \"Point\": 125}, {\"index_x\": 125, \"component 1\": -13.633455276489258, \"component 2\": 9.988941192626953, \"index_y\": 125, \"sepal.length\": 7.2, \"sepal.width\": 3.2, \"petal.length\": 6.0, \"petal.width\": 1.8, \"Cluster\": \"Iris-virginica\", \"Point\": 126}, {\"index_x\": 126, \"component 1\": -9.276147842407227, \"component 2\": 4.65221643447876, \"index_y\": 126, \"sepal.length\": 6.2, \"sepal.width\": 2.8, \"petal.length\": 4.8, \"petal.width\": 1.8, \"Cluster\": \"Iris-virginica\", \"Point\": 127}, {\"index_x\": 127, \"component 1\": -8.933727264404297, \"component 2\": 4.441745758056641, \"index_y\": 127, \"sepal.length\": 6.1, \"sepal.width\": 3.0, \"petal.length\": 4.9, \"petal.width\": 1.8, \"Cluster\": \"Iris-virginica\", \"Point\": 128}, {\"index_x\": 128, \"component 1\": -10.691781044006348, \"component 2\": 8.727601051330566, \"index_y\": 128, \"sepal.length\": 6.4, \"sepal.width\": 2.8, \"petal.length\": 5.6, \"petal.width\": 2.1, \"Cluster\": \"Iris-virginica\", \"Point\": 129}, {\"index_x\": 129, \"component 1\": -13.335477828979492, \"component 2\": 9.931939125061035, \"index_y\": 129, \"sepal.length\": 7.2, \"sepal.width\": 3.0, \"petal.length\": 5.8, \"petal.width\": 1.6, \"Cluster\": \"Iris-virginica\", \"Point\": 130}, {\"index_x\": 130, \"component 1\": -13.566292762756348, \"component 2\": 10.725313186645508, \"index_y\": 130, \"sepal.length\": 7.4, \"sepal.width\": 2.8, \"petal.length\": 6.1, \"petal.width\": 1.9, \"Cluster\": \"Iris-virginica\", \"Point\": 131}, {\"index_x\": 131, \"component 1\": -14.865636825561523, \"component 2\": 10.417616844177246, \"index_y\": 131, \"sepal.length\": 7.9, \"sepal.width\": 3.8, \"petal.length\": 6.4, \"petal.width\": 2.0, \"Cluster\": \"Iris-virginica\", \"Point\": 132}, {\"index_x\": 132, \"component 1\": -10.691771507263184, \"component 2\": 8.72760009765625, \"index_y\": 132, \"sepal.length\": 6.4, \"sepal.width\": 2.8, \"petal.length\": 5.6, \"petal.width\": 2.2, \"Cluster\": \"Iris-virginica\", \"Point\": 133}, {\"index_x\": 133, \"component 1\": -9.710848808288574, \"component 2\": 6.194924354553223, \"index_y\": 133, \"sepal.length\": 6.3, \"sepal.width\": 2.8, \"petal.length\": 5.1, \"petal.width\": 1.5, \"Cluster\": \"Iris-virginica\", \"Point\": 134}, {\"index_x\": 134, \"component 1\": -9.730961799621582, \"component 2\": 8.331107139587402, \"index_y\": 134, \"sepal.length\": 6.1, \"sepal.width\": 2.6, \"petal.length\": 5.6, \"petal.width\": 1.4, \"Cluster\": \"Iris-virginica\", \"Point\": 135}, {\"index_x\": 135, \"component 1\": -14.039505004882812, \"component 2\": 10.682332992553711, \"index_y\": 135, \"sepal.length\": 7.7, \"sepal.width\": 3.0, \"petal.length\": 6.1, \"petal.width\": 2.3, \"Cluster\": \"Iris-virginica\", \"Point\": 136}, {\"index_x\": 136, \"component 1\": -11.690898895263672, \"component 2\": 8.481917381286621, \"index_y\": 136, \"sepal.length\": 6.3, \"sepal.width\": 3.4, \"petal.length\": 5.6, \"petal.width\": 2.4, \"Cluster\": \"Iris-virginica\", \"Point\": 137}, {\"index_x\": 137, \"component 1\": -11.39516830444336, \"component 2\": 8.232068061828613, \"index_y\": 137, \"sepal.length\": 6.4, \"sepal.width\": 3.1, \"petal.length\": 5.5, \"petal.width\": 1.8, \"Cluster\": \"Iris-virginica\", \"Point\": 138}, {\"index_x\": 138, \"component 1\": -8.673986434936523, \"component 2\": 3.9461522102355957, \"index_y\": 138, \"sepal.length\": 6.0, \"sepal.width\": 3.0, \"petal.length\": 4.8, \"petal.width\": 1.8, \"Cluster\": \"Iris-virginica\", \"Point\": 139}, {\"index_x\": 139, \"component 1\": -12.828632354736328, \"component 2\": 7.9689860343933105, \"index_y\": 139, \"sepal.length\": 6.9, \"sepal.width\": 3.1, \"petal.length\": 5.4, \"petal.width\": 2.1, \"Cluster\": \"Iris-virginica\", \"Point\": 140}, {\"index_x\": 140, \"component 1\": -12.32523250579834, \"component 2\": 8.661172866821289, \"index_y\": 140, \"sepal.length\": 6.7, \"sepal.width\": 3.1, \"petal.length\": 5.6, \"petal.width\": 2.4, \"Cluster\": \"Iris-virginica\", \"Point\": 141}, {\"index_x\": 141, \"component 1\": -12.452275276184082, \"component 2\": 6.36025333404541, \"index_y\": 141, \"sepal.length\": 6.9, \"sepal.width\": 3.1, \"petal.length\": 5.1, \"petal.width\": 2.3, \"Cluster\": \"Iris-virginica\", \"Point\": 142}, {\"index_x\": 142, \"component 1\": -7.634306907653809, \"component 2\": 5.2644524574279785, \"index_y\": 142, \"sepal.length\": 5.8, \"sepal.width\": 2.7, \"petal.length\": 5.1, \"petal.width\": 1.9, \"Cluster\": \"Iris-virginica\", \"Point\": 143}, {\"index_x\": 143, \"component 1\": -12.715140342712402, \"component 2\": 9.564557075500488, \"index_y\": 143, \"sepal.length\": 6.8, \"sepal.width\": 3.2, \"petal.length\": 5.9, \"petal.width\": 2.3, \"Cluster\": \"Iris-virginica\", \"Point\": 144}, {\"index_x\": 144, \"component 1\": -12.505986213684082, \"component 2\": 9.032658576965332, \"index_y\": 144, \"sepal.length\": 6.7, \"sepal.width\": 3.3, \"petal.length\": 5.7, \"petal.width\": 2.5, \"Cluster\": \"Iris-virginica\", \"Point\": 145}, {\"index_x\": 145, \"component 1\": -12.072339057922363, \"component 2\": 6.9138264656066895, \"index_y\": 145, \"sepal.length\": 6.7, \"sepal.width\": 3.0, \"petal.length\": 5.2, \"petal.width\": 2.3, \"Cluster\": \"Iris-virginica\", \"Point\": 146}, {\"index_x\": 146, \"component 1\": -8.989741325378418, \"component 2\": 6.012165069580078, \"index_y\": 146, \"sepal.length\": 6.3, \"sepal.width\": 2.5, \"petal.length\": 5.0, \"petal.width\": 1.9, \"Cluster\": \"Iris-virginica\", \"Point\": 147}, {\"index_x\": 147, \"component 1\": -11.319814682006836, \"component 2\": 6.988650798797607, \"index_y\": 147, \"sepal.length\": 6.5, \"sepal.width\": 3.0, \"petal.length\": 5.2, \"petal.width\": 2.0, \"Cluster\": \"Iris-virginica\", \"Point\": 148}, {\"index_x\": 148, \"component 1\": -11.36196517944336, \"component 2\": 7.820502281188965, \"index_y\": 148, \"sepal.length\": 6.2, \"sepal.width\": 3.4, \"petal.length\": 5.4, \"petal.width\": 2.3, \"Cluster\": \"Iris-virginica\", \"Point\": 149}, {\"index_x\": 149, \"component 1\": -8.16399097442627, \"component 2\": 4.835628509521484, \"index_y\": 149, \"sepal.length\": 5.9, \"sepal.width\": 3.0, \"petal.length\": 5.1, \"petal.width\": 1.8, \"Cluster\": \"Iris-virginica\", \"Point\": 150}]}}, {\"mode\": \"vega-lite\"});\n",
              "</script>"
            ],
            "text/plain": [
              "alt.Chart(...)"
            ]
          },
          "metadata": {},
          "execution_count": 13
        }
      ],
      "source": [
        "# t-SNE on iris dataset\n",
        "\n",
        "df = pd.read_csv(\"iris.csv\") \n",
        "df\n",
        "initial_list = df.to_numpy()\n",
        "\n",
        "selected_columns = df[df.columns[0:3]]\n",
        "\n",
        "new_df = selected_columns.copy()\n",
        "\n",
        "list = new_df.to_numpy()\n",
        "\n",
        "list_embedded = TSNE(n_components=2, learning_rate='auto',\n",
        "                   init='random').fit_transform(list)\n",
        "\n",
        "a= pd.DataFrame(data = list_embedded\n",
        "             , columns = ['component 1', 'component 2'])\n",
        " \n",
        "embedded_df = a.reset_index().merge(df.reset_index(), left_index=True, right_index=True, how='left')\n",
        "\n",
        "Label_for_color = ['Iris-versicolor','Iris-virginica','Iris-setosa']\n",
        "color_for_label = ['red', 'green','blue']\n",
        "\n",
        "alt.Chart(embedded_df).mark_point(filled=True).encode(\n",
        "           x = 'component 1',\n",
        "           y = 'component 2',\n",
        "           color=alt.Color('Cluster', scale=alt.\n",
        "                    Scale(domain=Label_for_color, range=color_for_label)),\n",
        "           tooltip = [\n",
        "               alt.Tooltip('Cluster')\n",
        "              ]).interactive()"
      ]
    },
    {
      "cell_type": "code",
      "source": [
        "end_time = time.time()\n",
        "print('Time for t-SNE iris is: {}'.format( end_time - start_time))"
      ],
      "metadata": {
        "colab": {
          "base_uri": "https://localhost:8080/"
        },
        "id": "qlYeidgTFa8T",
        "outputId": "70d4aa62-3f89-444c-cc24-a41d375614db"
      },
      "execution_count": 6,
      "outputs": [
        {
          "output_type": "stream",
          "name": "stdout",
          "text": [
            "Time for t-SNE iris is: 67.2572820186615\n"
          ]
        }
      ]
    },
    {
      "cell_type": "code",
      "source": [
        "from IPython.core.display import Image\n",
        "import numpy as np\n",
        "import sklearn.datasets"
      ],
      "metadata": {
        "id": "vBuEIieuaxLS"
      },
      "execution_count": 7,
      "outputs": []
    },
    {
      "cell_type": "code",
      "source": [
        "!pip install umap-learn "
      ],
      "metadata": {
        "colab": {
          "base_uri": "https://localhost:8080/"
        },
        "id": "WnfK3fMBa9re",
        "outputId": "d28e0c99-b625-4054-9f4b-9c2602b8b917"
      },
      "execution_count": 8,
      "outputs": [
        {
          "output_type": "stream",
          "name": "stdout",
          "text": [
            "Collecting umap-learn\n",
            "  Downloading umap-learn-0.5.3.tar.gz (88 kB)\n",
            "\u001b[K     |████████████████████████████████| 88 kB 4.4 MB/s \n",
            "\u001b[?25hRequirement already satisfied: numpy>=1.17 in /usr/local/lib/python3.7/dist-packages (from umap-learn) (1.21.6)\n",
            "Requirement already satisfied: scikit-learn>=0.22 in /usr/local/lib/python3.7/dist-packages (from umap-learn) (1.0.2)\n",
            "Requirement already satisfied: scipy>=1.0 in /usr/local/lib/python3.7/dist-packages (from umap-learn) (1.4.1)\n",
            "Requirement already satisfied: numba>=0.49 in /usr/local/lib/python3.7/dist-packages (from umap-learn) (0.51.2)\n",
            "Collecting pynndescent>=0.5\n",
            "  Downloading pynndescent-0.5.6.tar.gz (1.1 MB)\n",
            "\u001b[K     |████████████████████████████████| 1.1 MB 15.3 MB/s \n",
            "\u001b[?25hRequirement already satisfied: tqdm in /usr/local/lib/python3.7/dist-packages (from umap-learn) (4.64.0)\n",
            "Requirement already satisfied: llvmlite<0.35,>=0.34.0.dev0 in /usr/local/lib/python3.7/dist-packages (from numba>=0.49->umap-learn) (0.34.0)\n",
            "Requirement already satisfied: setuptools in /usr/local/lib/python3.7/dist-packages (from numba>=0.49->umap-learn) (57.4.0)\n",
            "Requirement already satisfied: joblib>=0.11 in /usr/local/lib/python3.7/dist-packages (from pynndescent>=0.5->umap-learn) (1.1.0)\n",
            "Requirement already satisfied: threadpoolctl>=2.0.0 in /usr/local/lib/python3.7/dist-packages (from scikit-learn>=0.22->umap-learn) (3.1.0)\n",
            "Building wheels for collected packages: umap-learn, pynndescent\n",
            "  Building wheel for umap-learn (setup.py) ... \u001b[?25l\u001b[?25hdone\n",
            "  Created wheel for umap-learn: filename=umap_learn-0.5.3-py3-none-any.whl size=82829 sha256=3cdc8434ed02f852c96a762d8f0e8e56cd8741319be7072679d4bdeba2bed9bb\n",
            "  Stored in directory: /root/.cache/pip/wheels/b3/52/a5/1fd9e3e76a7ab34f134c07469cd6f16e27ef3a37aeff1fe821\n",
            "  Building wheel for pynndescent (setup.py) ... \u001b[?25l\u001b[?25hdone\n",
            "  Created wheel for pynndescent: filename=pynndescent-0.5.6-py3-none-any.whl size=53943 sha256=ecb123c38d85c52e973a40e184a1077538adba5cf6d879160762daf2cfce668c\n",
            "  Stored in directory: /root/.cache/pip/wheels/03/f1/56/f80d72741e400345b5a5b50ec3d929aca581bf45e0225d5c50\n",
            "Successfully built umap-learn pynndescent\n",
            "Installing collected packages: pynndescent, umap-learn\n",
            "Successfully installed pynndescent-0.5.6 umap-learn-0.5.3\n"
          ]
        }
      ]
    },
    {
      "cell_type": "code",
      "source": [
        "from IPython.core.display import Image\n",
        "import numpy as np\n",
        "import sklearn.datasets\n",
        "!pip install umap-learn[plot]"
      ],
      "metadata": {
        "colab": {
          "base_uri": "https://localhost:8080/",
          "height": 1000
        },
        "id": "vQ6_RcMDbD42",
        "outputId": "7bab180a-239b-4a42-9aa8-980f6173baae"
      },
      "execution_count": 9,
      "outputs": [
        {
          "output_type": "stream",
          "name": "stdout",
          "text": [
            "Requirement already satisfied: umap-learn[plot] in /usr/local/lib/python3.7/dist-packages (0.5.3)\n",
            "Requirement already satisfied: pynndescent>=0.5 in /usr/local/lib/python3.7/dist-packages (from umap-learn[plot]) (0.5.6)\n",
            "Requirement already satisfied: scikit-learn>=0.22 in /usr/local/lib/python3.7/dist-packages (from umap-learn[plot]) (1.0.2)\n",
            "Requirement already satisfied: numba>=0.49 in /usr/local/lib/python3.7/dist-packages (from umap-learn[plot]) (0.51.2)\n",
            "Requirement already satisfied: tqdm in /usr/local/lib/python3.7/dist-packages (from umap-learn[plot]) (4.64.0)\n",
            "Requirement already satisfied: numpy>=1.17 in /usr/local/lib/python3.7/dist-packages (from umap-learn[plot]) (1.21.6)\n",
            "Requirement already satisfied: scipy>=1.0 in /usr/local/lib/python3.7/dist-packages (from umap-learn[plot]) (1.4.1)\n",
            "Requirement already satisfied: scikit-image in /usr/local/lib/python3.7/dist-packages (from umap-learn[plot]) (0.18.3)\n",
            "Requirement already satisfied: holoviews in /usr/local/lib/python3.7/dist-packages (from umap-learn[plot]) (1.14.8)\n",
            "Requirement already satisfied: matplotlib in /usr/local/lib/python3.7/dist-packages (from umap-learn[plot]) (3.2.2)\n",
            "Requirement already satisfied: colorcet in /usr/local/lib/python3.7/dist-packages (from umap-learn[plot]) (3.0.0)\n",
            "Requirement already satisfied: pandas in /usr/local/lib/python3.7/dist-packages (from umap-learn[plot]) (1.3.5)\n",
            "Collecting datashader\n",
            "  Downloading datashader-0.14.0-py2.py3-none-any.whl (18.2 MB)\n",
            "\u001b[K     |████████████████████████████████| 18.2 MB 335 kB/s \n",
            "\u001b[?25hRequirement already satisfied: seaborn in /usr/local/lib/python3.7/dist-packages (from umap-learn[plot]) (0.11.2)\n",
            "Requirement already satisfied: bokeh in /usr/local/lib/python3.7/dist-packages (from umap-learn[plot]) (2.3.3)\n",
            "Requirement already satisfied: setuptools in /usr/local/lib/python3.7/dist-packages (from numba>=0.49->umap-learn[plot]) (57.4.0)\n",
            "Requirement already satisfied: llvmlite<0.35,>=0.34.0.dev0 in /usr/local/lib/python3.7/dist-packages (from numba>=0.49->umap-learn[plot]) (0.34.0)\n",
            "Requirement already satisfied: joblib>=0.11 in /usr/local/lib/python3.7/dist-packages (from pynndescent>=0.5->umap-learn[plot]) (1.1.0)\n",
            "Requirement already satisfied: threadpoolctl>=2.0.0 in /usr/local/lib/python3.7/dist-packages (from scikit-learn>=0.22->umap-learn[plot]) (3.1.0)\n",
            "Requirement already satisfied: python-dateutil>=2.1 in /usr/local/lib/python3.7/dist-packages (from bokeh->umap-learn[plot]) (2.8.2)\n",
            "Requirement already satisfied: typing-extensions>=3.7.4 in /usr/local/lib/python3.7/dist-packages (from bokeh->umap-learn[plot]) (4.2.0)\n",
            "Requirement already satisfied: Jinja2>=2.9 in /usr/local/lib/python3.7/dist-packages (from bokeh->umap-learn[plot]) (2.11.3)\n",
            "Requirement already satisfied: pillow>=7.1.0 in /usr/local/lib/python3.7/dist-packages (from bokeh->umap-learn[plot]) (7.1.2)\n",
            "Requirement already satisfied: tornado>=5.1 in /usr/local/lib/python3.7/dist-packages (from bokeh->umap-learn[plot]) (5.1.1)\n",
            "Requirement already satisfied: packaging>=16.8 in /usr/local/lib/python3.7/dist-packages (from bokeh->umap-learn[plot]) (21.3)\n",
            "Requirement already satisfied: PyYAML>=3.10 in /usr/local/lib/python3.7/dist-packages (from bokeh->umap-learn[plot]) (3.13)\n",
            "Requirement already satisfied: MarkupSafe>=0.23 in /usr/local/lib/python3.7/dist-packages (from Jinja2>=2.9->bokeh->umap-learn[plot]) (2.0.1)\n",
            "Requirement already satisfied: pyparsing!=3.0.5,>=2.0.2 in /usr/local/lib/python3.7/dist-packages (from packaging>=16.8->bokeh->umap-learn[plot]) (3.0.8)\n",
            "Requirement already satisfied: six>=1.5 in /usr/local/lib/python3.7/dist-packages (from python-dateutil>=2.1->bokeh->umap-learn[plot]) (1.15.0)\n",
            "Requirement already satisfied: param>=1.7.0 in /usr/local/lib/python3.7/dist-packages (from colorcet->umap-learn[plot]) (1.12.1)\n",
            "Requirement already satisfied: pyct>=0.4.4 in /usr/local/lib/python3.7/dist-packages (from colorcet->umap-learn[plot]) (0.4.8)\n",
            "Collecting datashape>=0.5.1\n",
            "  Downloading datashape-0.5.2.tar.gz (76 kB)\n",
            "\u001b[K     |████████████████████████████████| 76 kB 4.3 MB/s \n",
            "\u001b[?25hRequirement already satisfied: dask[complete]>=0.18.0 in /usr/local/lib/python3.7/dist-packages (from datashader->umap-learn[plot]) (2.12.0)\n",
            "Requirement already satisfied: xarray>=0.9.6 in /usr/local/lib/python3.7/dist-packages (from datashader->umap-learn[plot]) (0.18.2)\n",
            "Collecting partd>=0.3.10\n",
            "  Downloading partd-1.2.0-py3-none-any.whl (19 kB)\n",
            "Requirement already satisfied: toolz>=0.7.3 in /usr/local/lib/python3.7/dist-packages (from dask[complete]>=0.18.0->datashader->umap-learn[plot]) (0.11.2)\n",
            "Requirement already satisfied: cloudpickle>=0.2.1 in /usr/local/lib/python3.7/dist-packages (from dask[complete]>=0.18.0->datashader->umap-learn[plot]) (1.3.0)\n",
            "Collecting fsspec>=0.6.0\n",
            "  Downloading fsspec-2022.3.0-py3-none-any.whl (136 kB)\n",
            "\u001b[K     |████████████████████████████████| 136 kB 43.3 MB/s \n",
            "\u001b[?25hCollecting distributed>=2.0\n",
            "  Downloading distributed-2022.2.0-py3-none-any.whl (837 kB)\n",
            "\u001b[K     |████████████████████████████████| 837 kB 43.8 MB/s \n",
            "\u001b[?25hCollecting multipledispatch>=0.4.7\n",
            "  Downloading multipledispatch-0.6.0-py3-none-any.whl (11 kB)\n",
            "Collecting distributed>=2.0\n",
            "  Downloading distributed-2022.1.1-py3-none-any.whl (830 kB)\n",
            "\u001b[K     |████████████████████████████████| 830 kB 46.1 MB/s \n",
            "\u001b[?25hRequirement already satisfied: sortedcontainers!=2.0.0,!=2.0.1 in /usr/local/lib/python3.7/dist-packages (from distributed>=2.0->dask[complete]>=0.18.0->datashader->umap-learn[plot]) (2.4.0)\n",
            "Requirement already satisfied: msgpack>=0.6.0 in /usr/local/lib/python3.7/dist-packages (from distributed>=2.0->dask[complete]>=0.18.0->datashader->umap-learn[plot]) (1.0.3)\n",
            "Requirement already satisfied: click>=6.6 in /usr/local/lib/python3.7/dist-packages (from distributed>=2.0->dask[complete]>=0.18.0->datashader->umap-learn[plot]) (7.1.2)\n",
            "Requirement already satisfied: tblib>=1.6.0 in /usr/local/lib/python3.7/dist-packages (from distributed>=2.0->dask[complete]>=0.18.0->datashader->umap-learn[plot]) (1.7.0)\n",
            "  Downloading distributed-2022.1.0-py3-none-any.whl (822 kB)\n",
            "\u001b[K     |████████████████████████████████| 822 kB 43.3 MB/s \n",
            "\u001b[?25h  Downloading distributed-2021.12.0-py3-none-any.whl (802 kB)\n",
            "\u001b[K     |████████████████████████████████| 802 kB 40.4 MB/s \n",
            "\u001b[?25h  Downloading distributed-2021.11.2-py3-none-any.whl (802 kB)\n",
            "\u001b[K     |████████████████████████████████| 802 kB 43.9 MB/s \n",
            "\u001b[?25h  Downloading distributed-2021.11.1-py3-none-any.whl (793 kB)\n",
            "\u001b[K     |████████████████████████████████| 793 kB 41.4 MB/s \n",
            "\u001b[?25h  Downloading distributed-2021.11.0-py3-none-any.whl (793 kB)\n",
            "\u001b[K     |████████████████████████████████| 793 kB 46.6 MB/s \n",
            "\u001b[?25h  Downloading distributed-2021.10.0-py3-none-any.whl (791 kB)\n",
            "\u001b[K     |████████████████████████████████| 791 kB 43.2 MB/s \n",
            "\u001b[?25h  Downloading distributed-2021.9.1-py3-none-any.whl (786 kB)\n",
            "\u001b[K     |████████████████████████████████| 786 kB 49.4 MB/s \n",
            "\u001b[?25h  Downloading distributed-2021.9.0-py3-none-any.whl (779 kB)\n",
            "\u001b[K     |████████████████████████████████| 779 kB 40.2 MB/s \n",
            "\u001b[?25h  Downloading distributed-2021.8.1-py3-none-any.whl (778 kB)\n",
            "\u001b[K     |████████████████████████████████| 778 kB 44.1 MB/s \n",
            "\u001b[?25hRequirement already satisfied: zict>=0.1.3 in /usr/local/lib/python3.7/dist-packages (from distributed>=2.0->dask[complete]>=0.18.0->datashader->umap-learn[plot]) (2.2.0)\n",
            "Collecting cloudpickle>=0.2.1\n",
            "  Downloading cloudpickle-2.0.0-py3-none-any.whl (25 kB)\n",
            "Collecting distributed>=2.0\n",
            "  Downloading distributed-2021.8.0-py3-none-any.whl (776 kB)\n",
            "\u001b[K     |████████████████████████████████| 776 kB 47.8 MB/s \n",
            "\u001b[?25h  Downloading distributed-2021.7.2-py3-none-any.whl (769 kB)\n",
            "\u001b[K     |████████████████████████████████| 769 kB 43.6 MB/s \n",
            "\u001b[?25h  Downloading distributed-2021.7.1-py3-none-any.whl (766 kB)\n",
            "\u001b[K     |████████████████████████████████| 766 kB 15.8 MB/s \n",
            "\u001b[?25h  Downloading distributed-2021.7.0-py3-none-any.whl (1.0 MB)\n",
            "\u001b[K     |████████████████████████████████| 1.0 MB 20.7 MB/s \n",
            "\u001b[?25hRequirement already satisfied: psutil>=5.0 in /usr/local/lib/python3.7/dist-packages (from distributed>=2.0->dask[complete]>=0.18.0->datashader->umap-learn[plot]) (5.4.8)\n",
            "  Downloading distributed-2021.6.2-py3-none-any.whl (722 kB)\n",
            "\u001b[K     |████████████████████████████████| 722 kB 41.5 MB/s \n",
            "\u001b[?25h  Downloading distributed-2021.6.1-py3-none-any.whl (722 kB)\n",
            "\u001b[K     |████████████████████████████████| 722 kB 45.0 MB/s \n",
            "\u001b[?25h  Downloading distributed-2021.6.0-py3-none-any.whl (715 kB)\n",
            "\u001b[K     |████████████████████████████████| 715 kB 46.8 MB/s \n",
            "\u001b[?25h  Downloading distributed-2021.5.1-py3-none-any.whl (705 kB)\n",
            "\u001b[K     |████████████████████████████████| 705 kB 57.9 MB/s \n",
            "\u001b[?25h  Downloading distributed-2021.5.0-py3-none-any.whl (699 kB)\n",
            "\u001b[K     |████████████████████████████████| 699 kB 42.0 MB/s \n",
            "\u001b[?25h  Downloading distributed-2021.4.1-py3-none-any.whl (696 kB)\n",
            "\u001b[K     |████████████████████████████████| 696 kB 44.8 MB/s \n",
            "\u001b[?25h  Downloading distributed-2021.4.0-py3-none-any.whl (684 kB)\n",
            "\u001b[K     |████████████████████████████████| 684 kB 42.5 MB/s \n",
            "\u001b[?25h  Downloading distributed-2021.3.1-py3-none-any.whl (679 kB)\n",
            "\u001b[K     |████████████████████████████████| 679 kB 16.0 MB/s \n",
            "\u001b[?25h  Downloading distributed-2021.3.0-py3-none-any.whl (675 kB)\n",
            "\u001b[K     |████████████████████████████████| 675 kB 43.9 MB/s \n",
            "\u001b[?25h  Downloading distributed-2021.2.0-py3-none-any.whl (675 kB)\n",
            "\u001b[K     |████████████████████████████████| 675 kB 46.5 MB/s \n",
            "\u001b[?25h  Downloading distributed-2021.1.1-py3-none-any.whl (672 kB)\n",
            "\u001b[K     |████████████████████████████████| 672 kB 46.3 MB/s \n",
            "\u001b[?25h  Downloading distributed-2021.1.0-py3-none-any.whl (671 kB)\n",
            "\u001b[K     |████████████████████████████████| 671 kB 21.9 MB/s \n",
            "\u001b[?25h  Downloading distributed-2020.12.0-py3-none-any.whl (669 kB)\n",
            "\u001b[K     |████████████████████████████████| 669 kB 43.5 MB/s \n",
            "\u001b[?25h  Downloading distributed-2.30.1-py3-none-any.whl (656 kB)\n",
            "\u001b[K     |████████████████████████████████| 656 kB 43.7 MB/s \n",
            "\u001b[?25hRequirement already satisfied: pytz>=2017.3 in /usr/local/lib/python3.7/dist-packages (from pandas->umap-learn[plot]) (2022.1)\n",
            "Collecting locket\n",
            "  Downloading locket-1.0.0-py2.py3-none-any.whl (4.4 kB)\n",
            "Requirement already satisfied: heapdict in /usr/local/lib/python3.7/dist-packages (from zict>=0.1.3->distributed>=2.0->dask[complete]>=0.18.0->datashader->umap-learn[plot]) (1.0.1)\n",
            "Requirement already satisfied: panel>=0.8.0 in /usr/local/lib/python3.7/dist-packages (from holoviews->umap-learn[plot]) (0.12.1)\n",
            "Requirement already satisfied: pyviz-comms>=0.7.4 in /usr/local/lib/python3.7/dist-packages (from holoviews->umap-learn[plot]) (2.2.0)\n",
            "Requirement already satisfied: markdown in /usr/local/lib/python3.7/dist-packages (from panel>=0.8.0->holoviews->umap-learn[plot]) (3.3.6)\n",
            "Requirement already satisfied: bleach in /usr/local/lib/python3.7/dist-packages (from panel>=0.8.0->holoviews->umap-learn[plot]) (5.0.0)\n",
            "Requirement already satisfied: requests in /usr/local/lib/python3.7/dist-packages (from panel>=0.8.0->holoviews->umap-learn[plot]) (2.23.0)\n",
            "Requirement already satisfied: webencodings in /usr/local/lib/python3.7/dist-packages (from bleach->panel>=0.8.0->holoviews->umap-learn[plot]) (0.5.1)\n",
            "Requirement already satisfied: importlib-metadata>=4.4 in /usr/local/lib/python3.7/dist-packages (from markdown->panel>=0.8.0->holoviews->umap-learn[plot]) (4.11.3)\n",
            "Requirement already satisfied: zipp>=0.5 in /usr/local/lib/python3.7/dist-packages (from importlib-metadata>=4.4->markdown->panel>=0.8.0->holoviews->umap-learn[plot]) (3.8.0)\n",
            "Requirement already satisfied: cycler>=0.10 in /usr/local/lib/python3.7/dist-packages (from matplotlib->umap-learn[plot]) (0.11.0)\n",
            "Requirement already satisfied: kiwisolver>=1.0.1 in /usr/local/lib/python3.7/dist-packages (from matplotlib->umap-learn[plot]) (1.4.2)\n",
            "Requirement already satisfied: urllib3!=1.25.0,!=1.25.1,<1.26,>=1.21.1 in /usr/local/lib/python3.7/dist-packages (from requests->panel>=0.8.0->holoviews->umap-learn[plot]) (1.24.3)\n",
            "Requirement already satisfied: idna<3,>=2.5 in /usr/local/lib/python3.7/dist-packages (from requests->panel>=0.8.0->holoviews->umap-learn[plot]) (2.10)\n",
            "Requirement already satisfied: certifi>=2017.4.17 in /usr/local/lib/python3.7/dist-packages (from requests->panel>=0.8.0->holoviews->umap-learn[plot]) (2021.10.8)\n",
            "Requirement already satisfied: chardet<4,>=3.0.2 in /usr/local/lib/python3.7/dist-packages (from requests->panel>=0.8.0->holoviews->umap-learn[plot]) (3.0.4)\n",
            "Requirement already satisfied: imageio>=2.3.0 in /usr/local/lib/python3.7/dist-packages (from scikit-image->umap-learn[plot]) (2.4.1)\n",
            "Requirement already satisfied: PyWavelets>=1.1.1 in /usr/local/lib/python3.7/dist-packages (from scikit-image->umap-learn[plot]) (1.3.0)\n",
            "Requirement already satisfied: tifffile>=2019.7.26 in /usr/local/lib/python3.7/dist-packages (from scikit-image->umap-learn[plot]) (2021.11.2)\n",
            "Requirement already satisfied: networkx>=2.0 in /usr/local/lib/python3.7/dist-packages (from scikit-image->umap-learn[plot]) (2.6.3)\n",
            "Building wheels for collected packages: datashape\n",
            "  Building wheel for datashape (setup.py) ... \u001b[?25l\u001b[?25hdone\n",
            "  Created wheel for datashape: filename=datashape-0.5.2-py3-none-any.whl size=59438 sha256=0c3a42bbb8dc0871d14abc0bd3f9883ffdf0b5de2d9d3baaacafde28a3eeddfb\n",
            "  Stored in directory: /root/.cache/pip/wheels/b5/b7/80/333a5c3312ed4cd54f5d5b869868c14e0c6002cb5c7238b52d\n",
            "Successfully built datashape\n",
            "Installing collected packages: locket, cloudpickle, partd, multipledispatch, fsspec, distributed, datashape, datashader\n",
            "  Attempting uninstall: cloudpickle\n",
            "    Found existing installation: cloudpickle 1.3.0\n",
            "    Uninstalling cloudpickle-1.3.0:\n",
            "      Successfully uninstalled cloudpickle-1.3.0\n",
            "  Attempting uninstall: distributed\n",
            "    Found existing installation: distributed 1.25.3\n",
            "    Uninstalling distributed-1.25.3:\n",
            "      Successfully uninstalled distributed-1.25.3\n",
            "\u001b[31mERROR: pip's dependency resolver does not currently take into account all the packages that are installed. This behaviour is the source of the following dependency conflicts.\n",
            "gym 0.17.3 requires cloudpickle<1.7.0,>=1.2.0, but you have cloudpickle 2.0.0 which is incompatible.\u001b[0m\n",
            "Successfully installed cloudpickle-2.0.0 datashader-0.14.0 datashape-0.5.2 distributed-2.30.1 fsspec-2022.3.0 locket-1.0.0 multipledispatch-0.6.0 partd-1.2.0\n"
          ]
        },
        {
          "output_type": "display_data",
          "data": {
            "application/vnd.colab-display-data+json": {
              "pip_warning": {
                "packages": [
                  "cloudpickle"
                ]
              }
            }
          },
          "metadata": {}
        }
      ]
    },
    {
      "cell_type": "code",
      "source": [
        "import umap.plot\n",
        "start_time_2 = time.time()\n",
        "mapper = umap.UMAP().fit(list.data)"
      ],
      "metadata": {
        "colab": {
          "base_uri": "https://localhost:8080/"
        },
        "id": "ByfFm_0SbGoG",
        "outputId": "cebb23ac-5904-41a0-cd36-39645db8a360"
      },
      "execution_count": 10,
      "outputs": [
        {
          "output_type": "stream",
          "name": "stderr",
          "text": [
            "/usr/local/lib/python3.7/dist-packages/numba/np/ufunc/parallel.py:363: NumbaWarning: The TBB threading layer requires TBB version 2019.5 or later i.e., TBB_INTERFACE_VERSION >= 11005. Found TBB_INTERFACE_VERSION = 9107. The TBB threading layer is disabled.\n",
            "  warnings.warn(problem)\n"
          ]
        }
      ]
    },
    {
      "cell_type": "code",
      "source": [
        "umap.plot.points(mapper, labels=df.Cluster,color_key_cmap='Paired',background='black')"
      ],
      "metadata": {
        "colab": {
          "base_uri": "https://localhost:8080/",
          "height": 656
        },
        "id": "9qJjgeRUbTPY",
        "outputId": "86811252-b11d-4dc7-e0c5-5a79467a8e01"
      },
      "execution_count": 11,
      "outputs": [
        {
          "output_type": "execute_result",
          "data": {
            "text/plain": [
              "<matplotlib.axes._subplots.AxesSubplot at 0x7fc550ad4e50>"
            ]
          },
          "metadata": {},
          "execution_count": 11
        },
        {
          "output_type": "display_data",
          "data": {
            "text/plain": [
              "<Figure size 800x800 with 1 Axes>"
            ],
            "image/png": "[encoded data removed]"
          },
          "metadata": {}
        }
      ]
    },
    {
      "cell_type": "code",
      "source": [
        "end_time_2 = time.time()\n",
        "print('Time for u-map iris is: {}'.format( end_time_2 - start_time_2))"
      ],
      "metadata": {
        "colab": {
          "base_uri": "https://localhost:8080/"
        },
        "id": "Kj7TWn_jHBcy",
        "outputId": "3fca96b1-96a3-42b1-cbcb-8fd8ebdacbad"
      },
      "execution_count": 12,
      "outputs": [
        {
          "output_type": "stream",
          "name": "stdout",
          "text": [
            "Time for u-map iris is: 10.269447088241577\n"
          ]
        }
      ]
    }
  ]
}
